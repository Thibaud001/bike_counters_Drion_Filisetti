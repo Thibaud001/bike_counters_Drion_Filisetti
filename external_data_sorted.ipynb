{
 "cells": [
  {
   "cell_type": "code",
   "execution_count": 1,
   "metadata": {},
   "outputs": [],
   "source": [
    "from pathlib import Path\n",
    "\n",
    "import numpy as np\n",
    "import pandas as pd\n",
    "import matplotlib.pyplot as plt\n",
    "import sklearn"
   ]
  },
  {
   "cell_type": "code",
   "execution_count": 2,
   "metadata": {},
   "outputs": [],
   "source": [
    "external_data = pd.read_csv(Path(\"external_data\") / 'external_data.csv')\n",
    "data = pd.read_parquet(Path(\"data\") / \"train.parquet\")"
   ]
  },
  {
   "cell_type": "code",
   "execution_count": 3,
   "metadata": {},
   "outputs": [
    {
     "name": "stdout",
     "output_type": "stream",
     "text": [
      "2020-09-01 00:00:00 2021-10-21 12:00:00\n"
     ]
    }
   ],
   "source": [
    "print(external_data['date'].min(), external_data['date'].max())"
   ]
  },
  {
   "cell_type": "code",
   "execution_count": 4,
   "metadata": {},
   "outputs": [],
   "source": [
    "external_data_cleaned = external_data.dropna(axis=1, how='all').sort_values(by='date')"
   ]
  },
  {
   "cell_type": "code",
   "execution_count": null,
   "metadata": {},
   "outputs": [
    {
     "name": "stdout",
     "output_type": "stream",
     "text": [
      "                    date  etat_sol   ff     t   u     vv     n  ht_neige  rr3  \\\n",
      "3082 2020-09-01 00:00:00       0.0  1.6  12.6  81  30000   0.0       0.0  0.0   \n",
      "3083 2020-09-01 03:00:00       0.0  1.1  10.8  88  25000   0.0       0.0  0.0   \n",
      "3084 2020-09-01 06:00:00       0.0  1.8  11.1  91  25000  10.0       0.0  0.0   \n",
      "3085 2020-09-01 09:00:00       0.0  2.9  18.1  60  19830  25.0       0.0  0.0   \n",
      "3086 2020-09-01 12:00:00       0.0  2.6  20.8  44  21000   NaN       0.0  0.0   \n",
      "\n",
      "      East  South  West  Lockdown  soft-curfew  hard-curfew  bank_holidays  \\\n",
      "3082     0      0     0         0            0            0              0   \n",
      "3083     0      0     1         0            0            0              0   \n",
      "3084     0      0     0         0            0            0              0   \n",
      "3085     0      0     0         0            0            0              0   \n",
      "3086     0      0     0         0            0            0              0   \n",
      "\n",
      "      holidays  \n",
      "3082         0  \n",
      "3083         0  \n",
      "3084         0  \n",
      "3085         0  \n",
      "3086         0  \n"
     ]
    }
   ],
   "source": [
    "# Defin columns of interests, transfer to to_datetime and celsius format\n",
    "columns_of_interest = [\"date\", \"etat_sol\", \"dd\", \"ff\", \"t\", \"u\", \"vv\", \"n\", \"ht_neige\", \"rr3\"]\n",
    "\n",
    "external_data_sorted = external_data_cleaned[columns_of_interest].copy()\n",
    "\n",
    "external_data_sorted[\"date\"] = pd.to_datetime(external_data_sorted['date'])\n",
    "external_data_sorted.loc[:, \"t\"] = external_data_sorted[\"t\"] - 273.15\n",
    "\n",
    "# Set additionnal informations on time periods and wind direction\n",
    "def set_periods(df, column_name, periods):\n",
    "    df[column_name] = 0\n",
    "    for start_date, end_date in periods:\n",
    "        df.loc[(df['date'] >= start_date) & (df['date'] < end_date), column_name] = 1\n",
    "\n",
    "lockdown_periods = [('2020-10-30', '2020-12-15'),\n",
    "                    ('2021-04-03', '2021-05-04')]\n",
    "\n",
    "soft_curfew_periods = [('2020-10-17', '2020-10-30'),\n",
    "                       ('2020-12-15', '2021-01-16'),\n",
    "                       ('2021-05-19', '2021-06-21')]\n",
    "\n",
    "hard_curfew_periods = [('2021-01-16', '2021-04-03'),\n",
    "                       ('2021-05-04', '2021-05-19')]\n",
    "\n",
    "\n",
    "bank_holidays = pd.to_datetime([\n",
    "    '2020-11-01', '2020-11-11', '2020-12-25', '2021-01-01', '2021-04-05',\n",
    "    '2021-05-01', '2021-05-13', '2021-05-24', '2021-07-14', '2021-08-15'])\n",
    "\n",
    "\n",
    "holidays = [('2020-10-17', '2020-11-02'),\n",
    "            ('2020-12-19', '2021-01-02'),\n",
    "            ('2021-02-13', '2021-03-01'),\n",
    "            ('2021-04-17', '2021-05-03'),\n",
    "            ('2021-10-23', '2021-11-08')]\n",
    "\n",
    "set_periods(external_data_sorted, 'Lockdown', lockdown_periods)\n",
    "set_periods(external_data_sorted, 'soft-curfew', soft_curfew_periods)\n",
    "set_periods(external_data_sorted, 'hard-curfew', hard_curfew_periods)\n",
    "external_data_sorted['bank_holidays'] = external_data_sorted['date'].isin(bank_holidays).astype(int)\n",
    "set_periods(external_data_sorted, 'holidays', holidays)\n",
    "\n",
    "\n",
    "def set_headings(df, column_names, bearings):\n",
    "    for column_name, (low_bearing, high_bearing) in zip(column_names, bearings):\n",
    "        df[column_name] = 0\n",
    "        df.loc[(df['dd'] >= low_bearing) & (df['dd'] < high_bearing), column_name] = 1\n",
    "\n",
    "# For computation ease, we do not set the North column, as it is described by the other three\n",
    "column_names = [\"East\", \"South\", \"West\"]\n",
    "bearings = [(45, 135), (135, 225), (225, 315)]\n",
    "\n",
    "set_headings(external_data_sorted, column_names, bearings)\n",
    "external_data_sorted = external_data_sorted.drop(columns=[\"dd\"])\n",
    "\n",
    "\n",
    "print(external_data_sorted.head())"
   ]
  },
  {
   "cell_type": "code",
   "execution_count": null,
   "metadata": {},
   "outputs": [
    {
     "name": "stdout",
     "output_type": "stream",
     "text": [
      "                 date  etat_sol   ff     t   u     vv    n  ht_neige  rr3  \\\n",
      "0 2020-08-31 22:00:00       0.0  1.6  12.6  81  30000  0.0       0.0  0.0   \n",
      "1 2020-08-31 23:00:00       0.0  1.6  12.6  81  30000  0.0       0.0  0.0   \n",
      "2 2020-09-01 00:00:00       0.0  1.6  12.6  81  30000  0.0       0.0  0.0   \n",
      "3 2020-09-01 01:00:00       0.0  1.1  10.8  88  25000  0.0       0.0  0.0   \n",
      "4 2020-09-01 02:00:00       0.0  1.1  10.8  88  25000  0.0       0.0  0.0   \n",
      "\n",
      "   East  South  West  Lockdown  soft-curfew  hard-curfew  bank_holidays  \\\n",
      "0     0      0     0         0            0            0              0   \n",
      "1     0      0     0         0            0            0              0   \n",
      "2     0      0     0         0            0            0              0   \n",
      "3     0      0     1         0            0            0              0   \n",
      "4     0      0     1         0            0            0              0   \n",
      "\n",
      "   holidays  \n",
      "0         0  \n",
      "1         0  \n",
      "2         0  \n",
      "3         0  \n",
      "4         0  \n"
     ]
    }
   ],
   "source": [
    "# Let's fill missing hours : we will create new lines, which will be copies of the existing lines\n",
    "def create_missing_hours(row):\n",
    "    new_rows = []\n",
    "\n",
    "    # copy = existing line minus two hours\n",
    "    new_row_2h = row.copy()\n",
    "    new_row_2h['date'] = row['date'] - pd.Timedelta(hours=2)\n",
    "    new_rows.append(new_row_2h)\n",
    "\n",
    "    # copy = existing line minus one hour\n",
    "    new_row_1h = row.copy()\n",
    "    new_row_1h['date'] = row['date'] - pd.Timedelta(hours=1)\n",
    "    new_rows.append(new_row_1h)\n",
    "\n",
    "    return new_rows\n",
    "\n",
    "\n",
    "new_rows = []\n",
    "for index, row in external_data_sorted.iterrows():\n",
    "    new_rows.extend(create_missing_hours(row))\n",
    "\n",
    "\n",
    "new_data = pd.DataFrame(new_rows)\n",
    "\n",
    "external_data_expanded = pd.concat([external_data_sorted, new_data], ignore_index=True)\n",
    "external_data_expanded = external_data_expanded.sort_values(by='date').reset_index(drop=True)\n",
    "\n",
    "\n",
    "print(external_data_expanded.head())"
   ]
  },
  {
   "cell_type": "code",
   "execution_count": 7,
   "metadata": {},
   "outputs": [],
   "source": [
    "data_train = pd.merge(data, external_data_expanded, on='date', how='inner')"
   ]
  },
  {
   "cell_type": "code",
   "execution_count": 8,
   "metadata": {},
   "outputs": [
    {
     "data": {
      "text/html": [
       "<div>\n",
       "<style scoped>\n",
       "    .dataframe tbody tr th:only-of-type {\n",
       "        vertical-align: middle;\n",
       "    }\n",
       "\n",
       "    .dataframe tbody tr th {\n",
       "        vertical-align: top;\n",
       "    }\n",
       "\n",
       "    .dataframe thead th {\n",
       "        text-align: right;\n",
       "    }\n",
       "</style>\n",
       "<table border=\"1\" class=\"dataframe\">\n",
       "  <thead>\n",
       "    <tr style=\"text-align: right;\">\n",
       "      <th></th>\n",
       "      <th>counter_id</th>\n",
       "      <th>counter_name</th>\n",
       "      <th>site_id</th>\n",
       "      <th>site_name</th>\n",
       "      <th>bike_count</th>\n",
       "      <th>date</th>\n",
       "      <th>counter_installation_date</th>\n",
       "      <th>coordinates</th>\n",
       "      <th>counter_technical_id</th>\n",
       "      <th>latitude</th>\n",
       "      <th>...</th>\n",
       "      <th>Lockdown</th>\n",
       "      <th>soft-curfew</th>\n",
       "      <th>hard-curfew</th>\n",
       "      <th>bank_holidays</th>\n",
       "      <th>holidays</th>\n",
       "      <th>year</th>\n",
       "      <th>month</th>\n",
       "      <th>day</th>\n",
       "      <th>weekday</th>\n",
       "      <th>hour</th>\n",
       "    </tr>\n",
       "  </thead>\n",
       "  <tbody>\n",
       "    <tr>\n",
       "      <th>0</th>\n",
       "      <td>100007049-102007049</td>\n",
       "      <td>28 boulevard Diderot E-O</td>\n",
       "      <td>100007049</td>\n",
       "      <td>28 boulevard Diderot</td>\n",
       "      <td>0.0</td>\n",
       "      <td>2020-09-01 02:00:00</td>\n",
       "      <td>2013-01-18</td>\n",
       "      <td>48.846028,2.375429</td>\n",
       "      <td>Y2H15027244</td>\n",
       "      <td>48.846028</td>\n",
       "      <td>...</td>\n",
       "      <td>0</td>\n",
       "      <td>0</td>\n",
       "      <td>0</td>\n",
       "      <td>0</td>\n",
       "      <td>0</td>\n",
       "      <td>2020</td>\n",
       "      <td>9</td>\n",
       "      <td>1</td>\n",
       "      <td>1</td>\n",
       "      <td>2</td>\n",
       "    </tr>\n",
       "    <tr>\n",
       "      <th>1</th>\n",
       "      <td>100007049-102007049</td>\n",
       "      <td>28 boulevard Diderot E-O</td>\n",
       "      <td>100007049</td>\n",
       "      <td>28 boulevard Diderot</td>\n",
       "      <td>1.0</td>\n",
       "      <td>2020-09-01 03:00:00</td>\n",
       "      <td>2013-01-18</td>\n",
       "      <td>48.846028,2.375429</td>\n",
       "      <td>Y2H15027244</td>\n",
       "      <td>48.846028</td>\n",
       "      <td>...</td>\n",
       "      <td>0</td>\n",
       "      <td>0</td>\n",
       "      <td>0</td>\n",
       "      <td>0</td>\n",
       "      <td>0</td>\n",
       "      <td>2020</td>\n",
       "      <td>9</td>\n",
       "      <td>1</td>\n",
       "      <td>1</td>\n",
       "      <td>3</td>\n",
       "    </tr>\n",
       "    <tr>\n",
       "      <th>2</th>\n",
       "      <td>100007049-102007049</td>\n",
       "      <td>28 boulevard Diderot E-O</td>\n",
       "      <td>100007049</td>\n",
       "      <td>28 boulevard Diderot</td>\n",
       "      <td>0.0</td>\n",
       "      <td>2020-09-01 04:00:00</td>\n",
       "      <td>2013-01-18</td>\n",
       "      <td>48.846028,2.375429</td>\n",
       "      <td>Y2H15027244</td>\n",
       "      <td>48.846028</td>\n",
       "      <td>...</td>\n",
       "      <td>0</td>\n",
       "      <td>0</td>\n",
       "      <td>0</td>\n",
       "      <td>0</td>\n",
       "      <td>0</td>\n",
       "      <td>2020</td>\n",
       "      <td>9</td>\n",
       "      <td>1</td>\n",
       "      <td>1</td>\n",
       "      <td>4</td>\n",
       "    </tr>\n",
       "    <tr>\n",
       "      <th>3</th>\n",
       "      <td>100007049-102007049</td>\n",
       "      <td>28 boulevard Diderot E-O</td>\n",
       "      <td>100007049</td>\n",
       "      <td>28 boulevard Diderot</td>\n",
       "      <td>4.0</td>\n",
       "      <td>2020-09-01 15:00:00</td>\n",
       "      <td>2013-01-18</td>\n",
       "      <td>48.846028,2.375429</td>\n",
       "      <td>Y2H15027244</td>\n",
       "      <td>48.846028</td>\n",
       "      <td>...</td>\n",
       "      <td>0</td>\n",
       "      <td>0</td>\n",
       "      <td>0</td>\n",
       "      <td>0</td>\n",
       "      <td>0</td>\n",
       "      <td>2020</td>\n",
       "      <td>9</td>\n",
       "      <td>1</td>\n",
       "      <td>1</td>\n",
       "      <td>15</td>\n",
       "    </tr>\n",
       "    <tr>\n",
       "      <th>4</th>\n",
       "      <td>100007049-102007049</td>\n",
       "      <td>28 boulevard Diderot E-O</td>\n",
       "      <td>100007049</td>\n",
       "      <td>28 boulevard Diderot</td>\n",
       "      <td>9.0</td>\n",
       "      <td>2020-09-01 18:00:00</td>\n",
       "      <td>2013-01-18</td>\n",
       "      <td>48.846028,2.375429</td>\n",
       "      <td>Y2H15027244</td>\n",
       "      <td>48.846028</td>\n",
       "      <td>...</td>\n",
       "      <td>0</td>\n",
       "      <td>0</td>\n",
       "      <td>0</td>\n",
       "      <td>0</td>\n",
       "      <td>0</td>\n",
       "      <td>2020</td>\n",
       "      <td>9</td>\n",
       "      <td>1</td>\n",
       "      <td>1</td>\n",
       "      <td>18</td>\n",
       "    </tr>\n",
       "  </tbody>\n",
       "</table>\n",
       "<p>5 rows × 33 columns</p>\n",
       "</div>"
      ],
      "text/plain": [
       "            counter_id              counter_name    site_id  \\\n",
       "0  100007049-102007049  28 boulevard Diderot E-O  100007049   \n",
       "1  100007049-102007049  28 boulevard Diderot E-O  100007049   \n",
       "2  100007049-102007049  28 boulevard Diderot E-O  100007049   \n",
       "3  100007049-102007049  28 boulevard Diderot E-O  100007049   \n",
       "4  100007049-102007049  28 boulevard Diderot E-O  100007049   \n",
       "\n",
       "              site_name  bike_count                date  \\\n",
       "0  28 boulevard Diderot         0.0 2020-09-01 02:00:00   \n",
       "1  28 boulevard Diderot         1.0 2020-09-01 03:00:00   \n",
       "2  28 boulevard Diderot         0.0 2020-09-01 04:00:00   \n",
       "3  28 boulevard Diderot         4.0 2020-09-01 15:00:00   \n",
       "4  28 boulevard Diderot         9.0 2020-09-01 18:00:00   \n",
       "\n",
       "  counter_installation_date         coordinates counter_technical_id  \\\n",
       "0                2013-01-18  48.846028,2.375429          Y2H15027244   \n",
       "1                2013-01-18  48.846028,2.375429          Y2H15027244   \n",
       "2                2013-01-18  48.846028,2.375429          Y2H15027244   \n",
       "3                2013-01-18  48.846028,2.375429          Y2H15027244   \n",
       "4                2013-01-18  48.846028,2.375429          Y2H15027244   \n",
       "\n",
       "    latitude  ...  Lockdown  soft-curfew  hard-curfew  bank_holidays  \\\n",
       "0  48.846028  ...         0            0            0              0   \n",
       "1  48.846028  ...         0            0            0              0   \n",
       "2  48.846028  ...         0            0            0              0   \n",
       "3  48.846028  ...         0            0            0              0   \n",
       "4  48.846028  ...         0            0            0              0   \n",
       "\n",
       "   holidays  year  month  day  weekday  hour  \n",
       "0         0  2020      9    1        1     2  \n",
       "1         0  2020      9    1        1     3  \n",
       "2         0  2020      9    1        1     4  \n",
       "3         0  2020      9    1        1    15  \n",
       "4         0  2020      9    1        1    18  \n",
       "\n",
       "[5 rows x 33 columns]"
      ]
     },
     "execution_count": 8,
     "metadata": {},
     "output_type": "execute_result"
    }
   ],
   "source": [
    "def _encode_dates(X):\n",
    "    X = X.copy()  # modify a copy of X\n",
    "    X[\"year\"] = X[\"date\"].dt.year\n",
    "    X[\"month\"] = X[\"date\"].dt.month\n",
    "    X[\"day\"] = X[\"date\"].dt.day\n",
    "    X[\"weekday\"] = X[\"date\"].dt.weekday\n",
    "    X[\"hour\"] = X[\"date\"].dt.hour\n",
    "\n",
    "    return X\n",
    "\n",
    "external_data_train = _encode_dates(data_train)\n",
    "external_data_train.head()"
   ]
  },
  {
   "cell_type": "code",
   "execution_count": 9,
   "metadata": {},
   "outputs": [],
   "source": [
    "y = external_data_train[\"log_bike_count\"]\n",
    "X = external_data_train.drop(\n",
    "    columns=[\"log_bike_count\", \"bike_count\", \"site_id\", \"counter_name\", \"site_name\",\n",
    "             \"coordinates\", \"counter_technical_id\", \"counter_installation_date\"])"
   ]
  },
  {
   "cell_type": "code",
   "execution_count": 10,
   "metadata": {},
   "outputs": [],
   "source": [
    "X = pd.get_dummies(X, columns=[\"counter_id\"], dummy_na=True, drop_first=True, prefix_sep=' ')\n",
    "X.drop(columns=[\"counter_id nan\"], inplace=True)"
   ]
  },
  {
   "cell_type": "code",
   "execution_count": 11,
   "metadata": {},
   "outputs": [],
   "source": [
    "def train_test_split_temporal(X, y, delta_threshold=\"30 days\"):\n",
    "\n",
    "    cutoff_date = X[\"date\"].max() - pd.Timedelta(delta_threshold)\n",
    "    mask = (X[\"date\"] <= cutoff_date)\n",
    "    X_train, X_valid = X.loc[mask], X.loc[~mask]\n",
    "    y_train, y_valid = y[mask], y[~mask]\n",
    "\n",
    "    return X_train.drop(columns=[\"date\"]), y_train.drop(columns=[\"date\"]), X_valid.drop(columns=[\"date\"]), y_valid.drop(columns=[\"date\"])"
   ]
  },
  {
   "cell_type": "code",
   "execution_count": 12,
   "metadata": {},
   "outputs": [],
   "source": [
    "X_train, y_train, X_valid, y_valid = train_test_split_temporal(X, y)"
   ]
  },
  {
   "cell_type": "code",
   "execution_count": null,
   "metadata": {},
   "outputs": [
    {
     "name": "stdout",
     "output_type": "stream",
     "text": [
      "R² Score: 0.8784969690334632\n"
     ]
    }
   ],
   "source": [
    "import xgboost as xgb\n",
    "from sklearn.metrics import r2_score\n",
    "\n",
    "boost = xgb.XGBRegressor(random_state=0)\n",
    "boost.fit(X_train, y_train)\n",
    "\n",
    "y_pred = boost.predict(X_valid)\n",
    "score = r2_score(y_valid, y_pred)\n",
    "print(\"R² Score:\", score)"
   ]
  },
  {
   "cell_type": "code",
   "execution_count": 14,
   "metadata": {},
   "outputs": [
    {
     "name": "stdout",
     "output_type": "stream",
     "text": [
      "R² Score2: 0.8881889704667776\n"
     ]
    }
   ],
   "source": [
    "import xgboost as xgb\n",
    "from sklearn.metrics import r2_score\n",
    "\n",
    "boost_v2 = xgb.XGBRegressor(learning_rate=0.13, max_depth=7, min_child_weight=3,\n",
    "                            n_estimators=300, subsample=1, random_state=0)\n",
    "\n",
    "\n",
    "boost_v2.fit(X_train, y_train)\n",
    "\n",
    "\n",
    "y_pred2 = boost_v2.predict(X_valid)\n",
    "\n",
    "score2 = r2_score(y_valid, y_pred2)\n",
    "\n",
    "print(\"R² Score2:\", score2)"
   ]
  },
  {
   "cell_type": "code",
   "execution_count": 15,
   "metadata": {},
   "outputs": [
    {
     "name": "stdout",
     "output_type": "stream",
     "text": [
      "Train set, RMSE=0.3742\n",
      "Test set, RMSE=0.4820\n",
      "Train set, RMSE=0.4444\n",
      "Test set, RMSE=0.5024\n"
     ]
    }
   ],
   "source": [
    "from sklearn.metrics import root_mean_squared_error\n",
    "\n",
    "print(f\"Train set, RMSE={root_mean_squared_error(y_train, boost_v2.predict(X_train)):.4f}\")\n",
    "print(f\"Test set, RMSE={root_mean_squared_error(y_valid, boost_v2.predict(X_valid)):.4f}\")\n",
    "\n",
    "print(f\"Train set, RMSE={root_mean_squared_error(y_train, boost.predict(X_train)):.4f}\")\n",
    "print(f\"Test set, RMSE={root_mean_squared_error(y_valid, boost.predict(X_valid)):.4f}\")"
   ]
  },
  {
   "cell_type": "code",
   "execution_count": 16,
   "metadata": {},
   "outputs": [],
   "source": [
    "from sklearn.model_selection import learning_curve\n",
    "\n",
    "N, train_score, val_score = learning_curve(boost_v2, X_train, y_train, train_sizes=np.linspace(0.2, 1, 5), cv=5)"
   ]
  },
  {
   "cell_type": "code",
   "execution_count": 17,
   "metadata": {},
   "outputs": [
    {
     "data": {
      "text/plain": [
       "<matplotlib.legend.Legend at 0x13c0f37f970>"
      ]
     },
     "execution_count": 17,
     "metadata": {},
     "output_type": "execute_result"
    },
    {
     "data": {
      "image/png": "[encoded data removed]",
      "text/plain": [
       "<Figure size 640x480 with 1 Axes>"
      ]
     },
     "metadata": {},
     "output_type": "display_data"
    }
   ],
   "source": [
    "plt.plot(N, train_score.mean(axis=1), label='train')\n",
    "plt.plot(N, val_score.mean(axis=1), label='validation')\n",
    "plt.xlabel('train_sizes')\n",
    "plt.legend()"
   ]
  }
 ],
 "metadata": {
  "kernelspec": {
   "display_name": ".venv",
   "language": "python",
   "name": "python3"
  },
  "language_info": {
   "codemirror_mode": {
    "name": "ipython",
    "version": 3
   },
   "file_extension": ".py",
   "mimetype": "text/x-python",
   "name": "python",
   "nbconvert_exporter": "python",
   "pygments_lexer": "ipython3",
   "version": "3.10.16"
  }
 },
 "nbformat": 4,
 "nbformat_minor": 2
}
