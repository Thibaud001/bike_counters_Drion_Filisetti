{
 "cells": [
  {
   "cell_type": "code",
   "execution_count": 1,
   "metadata": {},
   "outputs": [],
   "source": [
    "from pathlib import Path\n",
    "\n",
    "import numpy as np\n",
    "import pandas as pd\n",
    "import matplotlib.pyplot as plt\n",
    "import sklearn"
   ]
  },
  {
   "cell_type": "code",
   "execution_count": 2,
   "metadata": {},
   "outputs": [],
   "source": [
    "external_data = pd.read_csv(Path(\"external_data\") / 'external_data.csv')\n",
    "data = pd.read_parquet(Path(\"data\") / \"train.parquet\")"
   ]
  },
  {
   "cell_type": "code",
   "execution_count": 3,
   "metadata": {},
   "outputs": [
    {
     "name": "stdout",
     "output_type": "stream",
     "text": [
      "Min date = 2020-09-01 00:00:00, Max date = 2021-10-21 12:00:00\n"
     ]
    }
   ],
   "source": [
    "print(f'Min date = {external_data[\"date\"].min()}, Max date = {external_data[\"date\"].max()}')"
   ]
  },
  {
   "cell_type": "code",
   "execution_count": 4,
   "metadata": {},
   "outputs": [],
   "source": [
    "external_data_cleaned = external_data.dropna(axis=1, how='all').sort_values(by='date')"
   ]
  },
  {
   "cell_type": "code",
   "execution_count": 5,
   "metadata": {},
   "outputs": [
    {
     "name": "stdout",
     "output_type": "stream",
     "text": [
      "                    date  etat_sol   dd   ff     t   u     vv     n  ht_neige  \\\n",
      "3082 2020-09-01 00:00:00       0.0  340  1.6  12.6  81  30000   0.0       0.0   \n",
      "3083 2020-09-01 03:00:00       0.0  290  1.1  10.8  88  25000   0.0       0.0   \n",
      "3084 2020-09-01 06:00:00       0.0  360  1.8  11.1  91  25000  10.0       0.0   \n",
      "3085 2020-09-01 09:00:00       0.0  360  2.9  18.1  60  19830  25.0       0.0   \n",
      "3086 2020-09-01 12:00:00       0.0   40  2.6  20.8  44  21000   NaN       0.0   \n",
      "\n",
      "      rr3  Lockdown  soft-curfew  hard-curfew  bank_holidays  \n",
      "3082  0.0         0            0            0              0  \n",
      "3083  0.0         0            0            0              0  \n",
      "3084  0.0         0            0            0              0  \n",
      "3085  0.0         0            0            0              0  \n",
      "3086  0.0         0            0            0              0  \n"
     ]
    }
   ],
   "source": [
    "columns_of_interest = [\"date\", \"etat_sol\", \"dd\", \"ff\", \"t\", \"u\", \"vv\", \"n\", \"ht_neige\", \"rr3\"]\n",
    "\n",
    "external_data_sorted = external_data_cleaned[columns_of_interest].copy()\n",
    "\n",
    "external_data_sorted[\"date\"] = pd.to_datetime(external_data_sorted['date'])\n",
    "\n",
    "# Set temperature to celsius\n",
    "external_data_sorted.loc[: ,\"t\"] = external_data_sorted[\"t\"] - 273.15\n",
    "\n",
    "# Set Lockdown dates\n",
    "start_date_L1 = '2020-10-30'\n",
    "end_date_L1 = '2020-12-15'\n",
    "\n",
    "start_date_L2 = '2021-04-03'\n",
    "end_date_L2 = '2021-05-04'\n",
    "\n",
    "external_data_sorted.loc[:, 'Lockdown'] = (\n",
    "    (external_data_sorted['date'] >= start_date_L1) & (external_data_sorted['date'] < end_date_L1) |\n",
    "    (external_data_sorted['date'] >= start_date_L2) & (external_data_sorted['date'] < end_date_L2)\n",
    ").astype(int)\n",
    "\n",
    "# Set \"soft-curfew\" dates\n",
    "start_date_SC1 = '2020-10-17'\n",
    "end_date_SC1 = '2020-10-30'\n",
    "\n",
    "start_date_SC2 = '2020-12-15'\n",
    "end_date_SC2 = '2021-01-16'\n",
    "\n",
    "start_date_SC3 = '2021-05-19'\n",
    "end_date_SC3 = '2021-06-21'\n",
    "\n",
    "external_data_sorted.loc[:, 'soft-curfew'] = (\n",
    "    (external_data_sorted['date'] >= start_date_SC1) & (external_data_sorted['date'] < end_date_SC1) |\n",
    "    (external_data_sorted['date'] >= start_date_SC2) & (external_data_sorted['date'] < end_date_SC2) |\n",
    "    (external_data_sorted['date'] >= start_date_SC3) & (external_data_sorted['date'] < end_date_SC3)\n",
    ").astype(int)\n",
    "\n",
    "# Set \"hard-curfew\" dates\n",
    "start_date_HC1 = '2021-01-16'\n",
    "end_date_HC1 = '2021-04-03'\n",
    "\n",
    "start_date_HC2 = '2021-05-04'\n",
    "end_date_HC2 = '2021-05-19'\n",
    "\n",
    "external_data_sorted.loc[:, 'hard-curfew'] = (\n",
    "    (external_data_sorted['date'] >= start_date_HC1) & (external_data_sorted['date'] < end_date_HC1) |\n",
    "    (external_data_sorted['date'] >= start_date_HC2) & (external_data_sorted['date'] < end_date_HC2)\n",
    ").astype(int)\n",
    "\n",
    "# Set \"bank holidays\" dates\n",
    "\n",
    "bank_holidays = pd.to_datetime(['2020-11-01', '2020-11-11', '2020-12-25', '2021-01-01', '2021-04-05',\n",
    "                 '2021-05-01', '2021-05-13', '2021-05-24', '2021-07-14', '2021-08-15'])\n",
    "\n",
    "external_data_sorted.loc[:, 'bank_holidays'] = external_data_sorted['date'].isin(bank_holidays).astype(int)\n",
    "\n",
    "print(external_data_sorted.head())"
   ]
  },
  {
   "cell_type": "code",
   "execution_count": 6,
   "metadata": {},
   "outputs": [
    {
     "data": {
      "text/plain": [
       "date               0\n",
       "etat_sol          52\n",
       "dd                 0\n",
       "ff                 0\n",
       "t                  0\n",
       "u                  0\n",
       "vv                 0\n",
       "n                156\n",
       "ht_neige          49\n",
       "rr3                6\n",
       "Lockdown           0\n",
       "soft-curfew        0\n",
       "hard-curfew        0\n",
       "bank_holidays      0\n",
       "dtype: int64"
      ]
     },
     "execution_count": 6,
     "metadata": {},
     "output_type": "execute_result"
    }
   ],
   "source": [
    "external_data_sorted.isna().sum()"
   ]
  },
  {
   "cell_type": "code",
   "execution_count": 7,
   "metadata": {},
   "outputs": [
    {
     "name": "stdout",
     "output_type": "stream",
     "text": [
      "                 date  etat_sol   dd   ff     t   u     vv    n  ht_neige  \\\n",
      "0 2020-08-31 22:00:00       0.0  340  1.6  12.6  81  30000  0.0       0.0   \n",
      "1 2020-08-31 23:00:00       0.0  340  1.6  12.6  81  30000  0.0       0.0   \n",
      "2 2020-09-01 00:00:00       0.0  340  1.6  12.6  81  30000  0.0       0.0   \n",
      "3 2020-09-01 01:00:00       0.0  290  1.1  10.8  88  25000  0.0       0.0   \n",
      "4 2020-09-01 02:00:00       0.0  290  1.1  10.8  88  25000  0.0       0.0   \n",
      "\n",
      "   rr3  Lockdown  soft-curfew  hard-curfew  bank_holidays  \n",
      "0  0.0         0            0            0              0  \n",
      "1  0.0         0            0            0              0  \n",
      "2  0.0         0            0            0              0  \n",
      "3  0.0         0            0            0              0  \n",
      "4  0.0         0            0            0              0  \n"
     ]
    }
   ],
   "source": [
    "# Let's fill missing hours : we will create new lines, which will be copies of the existing lines\n",
    "def create_missing_hours(row):\n",
    "    new_rows = []\n",
    "\n",
    "    # copy = existing line minus two hours\n",
    "    new_row_2h = row.copy()\n",
    "    new_row_2h['date'] = row['date'] - pd.Timedelta(hours=2)\n",
    "    new_rows.append(new_row_2h)\n",
    "\n",
    "    # copy = existing line minus one hour\n",
    "    new_row_1h = row.copy()\n",
    "    new_row_1h['date'] = row['date'] - pd.Timedelta(hours=1)\n",
    "    new_rows.append(new_row_1h)\n",
    "\n",
    "    return new_rows\n",
    "\n",
    "# Appliquer la fonction à chaque ligne du DataFrame\n",
    "new_rows = []\n",
    "for index, row in external_data_sorted.iterrows():\n",
    "    new_rows.extend(create_missing_hours(row))\n",
    "\n",
    "# Convertir la liste de nouvelles lignes en DataFrame\n",
    "new_data = pd.DataFrame(new_rows)\n",
    "\n",
    "# Concaténer les nouvelles lignes avec le DataFrame original\n",
    "external_data_expanded = pd.concat([external_data_sorted, new_data], ignore_index=True)\n",
    "\n",
    "# Trier le DataFrame par date\n",
    "external_data_expanded = external_data_expanded.sort_values(by='date').reset_index(drop=True)\n",
    "\n",
    "# Afficher les premières lignes du DataFrame modifié\n",
    "print(external_data_expanded.head())"
   ]
  },
  {
   "cell_type": "markdown",
   "metadata": {},
   "source": [
    "external_data_expanded = external_data_expanded.dropna(axis=0)"
   ]
  },
  {
   "cell_type": "code",
   "execution_count": 8,
   "metadata": {},
   "outputs": [],
   "source": [
    "data_train = pd.merge(data, external_data_expanded, on='date', how='inner')"
   ]
  },
  {
   "cell_type": "code",
   "execution_count": 9,
   "metadata": {},
   "outputs": [
    {
     "data": {
      "text/html": [
       "<div>\n",
       "<style scoped>\n",
       "    .dataframe tbody tr th:only-of-type {\n",
       "        vertical-align: middle;\n",
       "    }\n",
       "\n",
       "    .dataframe tbody tr th {\n",
       "        vertical-align: top;\n",
       "    }\n",
       "\n",
       "    .dataframe thead th {\n",
       "        text-align: right;\n",
       "    }\n",
       "</style>\n",
       "<table border=\"1\" class=\"dataframe\">\n",
       "  <thead>\n",
       "    <tr style=\"text-align: right;\">\n",
       "      <th></th>\n",
       "      <th>counter_id</th>\n",
       "      <th>counter_name</th>\n",
       "      <th>site_id</th>\n",
       "      <th>site_name</th>\n",
       "      <th>bike_count</th>\n",
       "      <th>counter_installation_date</th>\n",
       "      <th>coordinates</th>\n",
       "      <th>counter_technical_id</th>\n",
       "      <th>latitude</th>\n",
       "      <th>longitude</th>\n",
       "      <th>...</th>\n",
       "      <th>rr3</th>\n",
       "      <th>Lockdown</th>\n",
       "      <th>soft-curfew</th>\n",
       "      <th>hard-curfew</th>\n",
       "      <th>bank_holidays</th>\n",
       "      <th>year</th>\n",
       "      <th>month</th>\n",
       "      <th>day</th>\n",
       "      <th>weekday</th>\n",
       "      <th>hour</th>\n",
       "    </tr>\n",
       "  </thead>\n",
       "  <tbody>\n",
       "    <tr>\n",
       "      <th>0</th>\n",
       "      <td>100007049-102007049</td>\n",
       "      <td>28 boulevard Diderot E-O</td>\n",
       "      <td>100007049</td>\n",
       "      <td>28 boulevard Diderot</td>\n",
       "      <td>0.0</td>\n",
       "      <td>2013-01-18</td>\n",
       "      <td>48.846028,2.375429</td>\n",
       "      <td>Y2H15027244</td>\n",
       "      <td>48.846028</td>\n",
       "      <td>2.375429</td>\n",
       "      <td>...</td>\n",
       "      <td>0.0</td>\n",
       "      <td>0</td>\n",
       "      <td>0</td>\n",
       "      <td>0</td>\n",
       "      <td>0</td>\n",
       "      <td>2020</td>\n",
       "      <td>9</td>\n",
       "      <td>1</td>\n",
       "      <td>1</td>\n",
       "      <td>2</td>\n",
       "    </tr>\n",
       "    <tr>\n",
       "      <th>1</th>\n",
       "      <td>100007049-102007049</td>\n",
       "      <td>28 boulevard Diderot E-O</td>\n",
       "      <td>100007049</td>\n",
       "      <td>28 boulevard Diderot</td>\n",
       "      <td>1.0</td>\n",
       "      <td>2013-01-18</td>\n",
       "      <td>48.846028,2.375429</td>\n",
       "      <td>Y2H15027244</td>\n",
       "      <td>48.846028</td>\n",
       "      <td>2.375429</td>\n",
       "      <td>...</td>\n",
       "      <td>0.0</td>\n",
       "      <td>0</td>\n",
       "      <td>0</td>\n",
       "      <td>0</td>\n",
       "      <td>0</td>\n",
       "      <td>2020</td>\n",
       "      <td>9</td>\n",
       "      <td>1</td>\n",
       "      <td>1</td>\n",
       "      <td>3</td>\n",
       "    </tr>\n",
       "    <tr>\n",
       "      <th>2</th>\n",
       "      <td>100007049-102007049</td>\n",
       "      <td>28 boulevard Diderot E-O</td>\n",
       "      <td>100007049</td>\n",
       "      <td>28 boulevard Diderot</td>\n",
       "      <td>0.0</td>\n",
       "      <td>2013-01-18</td>\n",
       "      <td>48.846028,2.375429</td>\n",
       "      <td>Y2H15027244</td>\n",
       "      <td>48.846028</td>\n",
       "      <td>2.375429</td>\n",
       "      <td>...</td>\n",
       "      <td>0.0</td>\n",
       "      <td>0</td>\n",
       "      <td>0</td>\n",
       "      <td>0</td>\n",
       "      <td>0</td>\n",
       "      <td>2020</td>\n",
       "      <td>9</td>\n",
       "      <td>1</td>\n",
       "      <td>1</td>\n",
       "      <td>4</td>\n",
       "    </tr>\n",
       "    <tr>\n",
       "      <th>3</th>\n",
       "      <td>100007049-102007049</td>\n",
       "      <td>28 boulevard Diderot E-O</td>\n",
       "      <td>100007049</td>\n",
       "      <td>28 boulevard Diderot</td>\n",
       "      <td>4.0</td>\n",
       "      <td>2013-01-18</td>\n",
       "      <td>48.846028,2.375429</td>\n",
       "      <td>Y2H15027244</td>\n",
       "      <td>48.846028</td>\n",
       "      <td>2.375429</td>\n",
       "      <td>...</td>\n",
       "      <td>0.0</td>\n",
       "      <td>0</td>\n",
       "      <td>0</td>\n",
       "      <td>0</td>\n",
       "      <td>0</td>\n",
       "      <td>2020</td>\n",
       "      <td>9</td>\n",
       "      <td>1</td>\n",
       "      <td>1</td>\n",
       "      <td>15</td>\n",
       "    </tr>\n",
       "    <tr>\n",
       "      <th>4</th>\n",
       "      <td>100007049-102007049</td>\n",
       "      <td>28 boulevard Diderot E-O</td>\n",
       "      <td>100007049</td>\n",
       "      <td>28 boulevard Diderot</td>\n",
       "      <td>9.0</td>\n",
       "      <td>2013-01-18</td>\n",
       "      <td>48.846028,2.375429</td>\n",
       "      <td>Y2H15027244</td>\n",
       "      <td>48.846028</td>\n",
       "      <td>2.375429</td>\n",
       "      <td>...</td>\n",
       "      <td>0.0</td>\n",
       "      <td>0</td>\n",
       "      <td>0</td>\n",
       "      <td>0</td>\n",
       "      <td>0</td>\n",
       "      <td>2020</td>\n",
       "      <td>9</td>\n",
       "      <td>1</td>\n",
       "      <td>1</td>\n",
       "      <td>18</td>\n",
       "    </tr>\n",
       "  </tbody>\n",
       "</table>\n",
       "<p>5 rows × 29 columns</p>\n",
       "</div>"
      ],
      "text/plain": [
       "            counter_id              counter_name    site_id  \\\n",
       "0  100007049-102007049  28 boulevard Diderot E-O  100007049   \n",
       "1  100007049-102007049  28 boulevard Diderot E-O  100007049   \n",
       "2  100007049-102007049  28 boulevard Diderot E-O  100007049   \n",
       "3  100007049-102007049  28 boulevard Diderot E-O  100007049   \n",
       "4  100007049-102007049  28 boulevard Diderot E-O  100007049   \n",
       "\n",
       "              site_name  bike_count counter_installation_date  \\\n",
       "0  28 boulevard Diderot         0.0                2013-01-18   \n",
       "1  28 boulevard Diderot         1.0                2013-01-18   \n",
       "2  28 boulevard Diderot         0.0                2013-01-18   \n",
       "3  28 boulevard Diderot         4.0                2013-01-18   \n",
       "4  28 boulevard Diderot         9.0                2013-01-18   \n",
       "\n",
       "          coordinates counter_technical_id   latitude  longitude  ...  rr3  \\\n",
       "0  48.846028,2.375429          Y2H15027244  48.846028   2.375429  ...  0.0   \n",
       "1  48.846028,2.375429          Y2H15027244  48.846028   2.375429  ...  0.0   \n",
       "2  48.846028,2.375429          Y2H15027244  48.846028   2.375429  ...  0.0   \n",
       "3  48.846028,2.375429          Y2H15027244  48.846028   2.375429  ...  0.0   \n",
       "4  48.846028,2.375429          Y2H15027244  48.846028   2.375429  ...  0.0   \n",
       "\n",
       "   Lockdown  soft-curfew  hard-curfew  bank_holidays  year  month  day  \\\n",
       "0         0            0            0              0  2020      9    1   \n",
       "1         0            0            0              0  2020      9    1   \n",
       "2         0            0            0              0  2020      9    1   \n",
       "3         0            0            0              0  2020      9    1   \n",
       "4         0            0            0              0  2020      9    1   \n",
       "\n",
       "   weekday  hour  \n",
       "0        1     2  \n",
       "1        1     3  \n",
       "2        1     4  \n",
       "3        1    15  \n",
       "4        1    18  \n",
       "\n",
       "[5 rows x 29 columns]"
      ]
     },
     "execution_count": 9,
     "metadata": {},
     "output_type": "execute_result"
    }
   ],
   "source": [
    "def _encode_dates(X):\n",
    "    X = X.copy()  # modify a copy of X\n",
    "    X[\"year\"] = X[\"date\"].dt.year\n",
    "    X[\"month\"] = X[\"date\"].dt.month\n",
    "    X[\"day\"] = X[\"date\"].dt.day\n",
    "    X[\"weekday\"] = X[\"date\"].dt.weekday\n",
    "    X[\"hour\"] = X[\"date\"].dt.hour\n",
    "\n",
    "    return X.drop(columns=[\"date\"])\n",
    "\n",
    "external_data_train = _encode_dates(data_train)\n",
    "external_data_train.head()"
   ]
  },
  {
   "cell_type": "code",
   "execution_count": 10,
   "metadata": {},
   "outputs": [],
   "source": [
    "y = external_data_train[\"log_bike_count\"]\n",
    "X = external_data_train.drop(\n",
    "    columns=[\"log_bike_count\", \"bike_count\", \"site_id\", \"counter_name\", \"site_name\",\n",
    "             \"coordinates\", \"counter_technical_id\", \"latitude\", \"longitude\"])"
   ]
  },
  {
   "cell_type": "code",
   "execution_count": 11,
   "metadata": {},
   "outputs": [],
   "source": [
    "X = pd.get_dummies(X, columns=[\"counter_id\"], dummy_na=True, drop_first=True, prefix_sep=' ')\n",
    "X.drop(columns=[\"counter_installation_date\", \"counter_id nan\"], inplace=True)"
   ]
  },
  {
   "cell_type": "code",
   "execution_count": 12,
   "metadata": {},
   "outputs": [
    {
     "data": {
      "text/html": [
       "<div>\n",
       "<style scoped>\n",
       "    .dataframe tbody tr th:only-of-type {\n",
       "        vertical-align: middle;\n",
       "    }\n",
       "\n",
       "    .dataframe tbody tr th {\n",
       "        vertical-align: top;\n",
       "    }\n",
       "\n",
       "    .dataframe thead th {\n",
       "        text-align: right;\n",
       "    }\n",
       "</style>\n",
       "<table border=\"1\" class=\"dataframe\">\n",
       "  <thead>\n",
       "    <tr style=\"text-align: right;\">\n",
       "      <th></th>\n",
       "      <th>etat_sol</th>\n",
       "      <th>dd</th>\n",
       "      <th>ff</th>\n",
       "      <th>t</th>\n",
       "      <th>u</th>\n",
       "      <th>vv</th>\n",
       "      <th>n</th>\n",
       "      <th>ht_neige</th>\n",
       "      <th>rr3</th>\n",
       "      <th>Lockdown</th>\n",
       "      <th>...</th>\n",
       "      <th>counter_id 100057380-103057380</th>\n",
       "      <th>counter_id 100057380-104057380</th>\n",
       "      <th>counter_id 100057445-103057445</th>\n",
       "      <th>counter_id 100057445-104057445</th>\n",
       "      <th>counter_id 100060178-101060178</th>\n",
       "      <th>counter_id 100060178-102060178</th>\n",
       "      <th>counter_id 100063175-353277233</th>\n",
       "      <th>counter_id 100063175-353277235</th>\n",
       "      <th>counter_id 300014702-353245971</th>\n",
       "      <th>counter_id 300014702-353245972</th>\n",
       "    </tr>\n",
       "  </thead>\n",
       "  <tbody>\n",
       "    <tr>\n",
       "      <th>0</th>\n",
       "      <td>0.0</td>\n",
       "      <td>290</td>\n",
       "      <td>1.1</td>\n",
       "      <td>10.8</td>\n",
       "      <td>88</td>\n",
       "      <td>25000</td>\n",
       "      <td>0.0</td>\n",
       "      <td>0.0</td>\n",
       "      <td>0.0</td>\n",
       "      <td>0</td>\n",
       "      <td>...</td>\n",
       "      <td>False</td>\n",
       "      <td>False</td>\n",
       "      <td>False</td>\n",
       "      <td>False</td>\n",
       "      <td>False</td>\n",
       "      <td>False</td>\n",
       "      <td>False</td>\n",
       "      <td>False</td>\n",
       "      <td>False</td>\n",
       "      <td>False</td>\n",
       "    </tr>\n",
       "    <tr>\n",
       "      <th>1</th>\n",
       "      <td>0.0</td>\n",
       "      <td>290</td>\n",
       "      <td>1.1</td>\n",
       "      <td>10.8</td>\n",
       "      <td>88</td>\n",
       "      <td>25000</td>\n",
       "      <td>0.0</td>\n",
       "      <td>0.0</td>\n",
       "      <td>0.0</td>\n",
       "      <td>0</td>\n",
       "      <td>...</td>\n",
       "      <td>False</td>\n",
       "      <td>False</td>\n",
       "      <td>False</td>\n",
       "      <td>False</td>\n",
       "      <td>False</td>\n",
       "      <td>False</td>\n",
       "      <td>False</td>\n",
       "      <td>False</td>\n",
       "      <td>False</td>\n",
       "      <td>False</td>\n",
       "    </tr>\n",
       "    <tr>\n",
       "      <th>2</th>\n",
       "      <td>0.0</td>\n",
       "      <td>360</td>\n",
       "      <td>1.8</td>\n",
       "      <td>11.1</td>\n",
       "      <td>91</td>\n",
       "      <td>25000</td>\n",
       "      <td>10.0</td>\n",
       "      <td>0.0</td>\n",
       "      <td>0.0</td>\n",
       "      <td>0</td>\n",
       "      <td>...</td>\n",
       "      <td>False</td>\n",
       "      <td>False</td>\n",
       "      <td>False</td>\n",
       "      <td>False</td>\n",
       "      <td>False</td>\n",
       "      <td>False</td>\n",
       "      <td>False</td>\n",
       "      <td>False</td>\n",
       "      <td>False</td>\n",
       "      <td>False</td>\n",
       "    </tr>\n",
       "    <tr>\n",
       "      <th>3</th>\n",
       "      <td>0.0</td>\n",
       "      <td>40</td>\n",
       "      <td>4.0</td>\n",
       "      <td>20.5</td>\n",
       "      <td>41</td>\n",
       "      <td>30000</td>\n",
       "      <td>60.0</td>\n",
       "      <td>0.0</td>\n",
       "      <td>0.0</td>\n",
       "      <td>0</td>\n",
       "      <td>...</td>\n",
       "      <td>False</td>\n",
       "      <td>False</td>\n",
       "      <td>False</td>\n",
       "      <td>False</td>\n",
       "      <td>False</td>\n",
       "      <td>False</td>\n",
       "      <td>False</td>\n",
       "      <td>False</td>\n",
       "      <td>False</td>\n",
       "      <td>False</td>\n",
       "    </tr>\n",
       "    <tr>\n",
       "      <th>4</th>\n",
       "      <td>0.0</td>\n",
       "      <td>20</td>\n",
       "      <td>3.0</td>\n",
       "      <td>19.0</td>\n",
       "      <td>47</td>\n",
       "      <td>30000</td>\n",
       "      <td>90.0</td>\n",
       "      <td>0.0</td>\n",
       "      <td>0.0</td>\n",
       "      <td>0</td>\n",
       "      <td>...</td>\n",
       "      <td>False</td>\n",
       "      <td>False</td>\n",
       "      <td>False</td>\n",
       "      <td>False</td>\n",
       "      <td>False</td>\n",
       "      <td>False</td>\n",
       "      <td>False</td>\n",
       "      <td>False</td>\n",
       "      <td>False</td>\n",
       "      <td>False</td>\n",
       "    </tr>\n",
       "  </tbody>\n",
       "</table>\n",
       "<p>5 rows × 73 columns</p>\n",
       "</div>"
      ],
      "text/plain": [
       "   etat_sol   dd   ff     t   u     vv     n  ht_neige  rr3  Lockdown  ...  \\\n",
       "0       0.0  290  1.1  10.8  88  25000   0.0       0.0  0.0         0  ...   \n",
       "1       0.0  290  1.1  10.8  88  25000   0.0       0.0  0.0         0  ...   \n",
       "2       0.0  360  1.8  11.1  91  25000  10.0       0.0  0.0         0  ...   \n",
       "3       0.0   40  4.0  20.5  41  30000  60.0       0.0  0.0         0  ...   \n",
       "4       0.0   20  3.0  19.0  47  30000  90.0       0.0  0.0         0  ...   \n",
       "\n",
       "   counter_id 100057380-103057380  counter_id 100057380-104057380  \\\n",
       "0                           False                           False   \n",
       "1                           False                           False   \n",
       "2                           False                           False   \n",
       "3                           False                           False   \n",
       "4                           False                           False   \n",
       "\n",
       "   counter_id 100057445-103057445  counter_id 100057445-104057445  \\\n",
       "0                           False                           False   \n",
       "1                           False                           False   \n",
       "2                           False                           False   \n",
       "3                           False                           False   \n",
       "4                           False                           False   \n",
       "\n",
       "   counter_id 100060178-101060178  counter_id 100060178-102060178  \\\n",
       "0                           False                           False   \n",
       "1                           False                           False   \n",
       "2                           False                           False   \n",
       "3                           False                           False   \n",
       "4                           False                           False   \n",
       "\n",
       "   counter_id 100063175-353277233  counter_id 100063175-353277235  \\\n",
       "0                           False                           False   \n",
       "1                           False                           False   \n",
       "2                           False                           False   \n",
       "3                           False                           False   \n",
       "4                           False                           False   \n",
       "\n",
       "   counter_id 300014702-353245971  counter_id 300014702-353245972  \n",
       "0                           False                           False  \n",
       "1                           False                           False  \n",
       "2                           False                           False  \n",
       "3                           False                           False  \n",
       "4                           False                           False  \n",
       "\n",
       "[5 rows x 73 columns]"
      ]
     },
     "execution_count": 12,
     "metadata": {},
     "output_type": "execute_result"
    }
   ],
   "source": [
    "X.head()"
   ]
  },
  {
   "cell_type": "code",
   "execution_count": 13,
   "metadata": {},
   "outputs": [],
   "source": [
    "from sklearn.model_selection import train_test_split\n",
    "\n",
    "X_train, X_test, y_train, y_test = train_test_split(X, y, test_size=0.2, random_state=0)"
   ]
  },
  {
   "cell_type": "code",
   "execution_count": 14,
   "metadata": {},
   "outputs": [
    {
     "data": {
      "text/plain": [
       "0.8820252740740141"
      ]
     },
     "execution_count": 14,
     "metadata": {},
     "output_type": "execute_result"
    }
   ],
   "source": [
    "from sklearn.tree import DecisionTreeRegressor\n",
    "\n",
    "regr = DecisionTreeRegressor(random_state=0)\n",
    "regr.fit(X_train, y_train)\n",
    "\n",
    "regr.score(X_test, y_test)"
   ]
  },
  {
   "cell_type": "code",
   "execution_count": 15,
   "metadata": {},
   "outputs": [
    {
     "name": "stdout",
     "output_type": "stream",
     "text": [
      "R² Score: 0.9247632118617227\n"
     ]
    }
   ],
   "source": [
    "import xgboost as xgb\n",
    "from sklearn.metrics import r2_score\n",
    "\n",
    "# Initialiser le modèle XGBoost\n",
    "boost = xgb.XGBRegressor(random_state=0)\n",
    "\n",
    "# Entraîner le modèle\n",
    "boost.fit(X_train, y_train)\n",
    "\n",
    "# Faire des prédictions sur l'ensemble de test\n",
    "y_pred = boost.predict(X_test)\n",
    "\n",
    "# Calculer le score R²\n",
    "score = r2_score(y_test, y_pred)\n",
    "print(\"R² Score:\", score)"
   ]
  },
  {
   "cell_type": "code",
   "execution_count": 16,
   "metadata": {},
   "outputs": [
    {
     "data": {
      "text/plain": [
       "0.8829576566790991"
      ]
     },
     "execution_count": 16,
     "metadata": {},
     "output_type": "execute_result"
    }
   ],
   "source": [
    "from sklearn.preprocessing import StandardScaler\n",
    "from sklearn.pipeline import make_pipeline\n",
    "\n",
    "model = make_pipeline(StandardScaler(), DecisionTreeRegressor())\n",
    "model.fit(X_train, y_train)\n",
    "model.score(X_test, y_test)"
   ]
  },
  {
   "cell_type": "code",
   "execution_count": 17,
   "metadata": {},
   "outputs": [
    {
     "name": "stdout",
     "output_type": "stream",
     "text": [
      "R² Score: 0.9247632118617227\n"
     ]
    }
   ],
   "source": [
    "model_2 = make_pipeline(StandardScaler(), xgb.XGBRegressor(random_state=0))\n",
    "model_2.fit(X_train, y_train)\n",
    "\n",
    "y_pred = model_2.predict(X_test)\n",
    "\n",
    "# Calculer le score R²\n",
    "score = r2_score(y_test, y_pred)\n",
    "print(\"R² Score:\", score)"
   ]
  },
  {
   "cell_type": "code",
   "execution_count": 18,
   "metadata": {},
   "outputs": [
    {
     "name": "stdout",
     "output_type": "stream",
     "text": [
      "Train set, RMSE=0.02\n",
      "Test set, RMSE=0.57\n",
      "Train set, RMSE=0.02\n",
      "Test set, RMSE=0.57\n",
      "Train set, RMSE=0.44\n",
      "Test set, RMSE=0.46\n",
      "Train set, RMSE=0.44\n",
      "Test set, RMSE=0.46\n"
     ]
    }
   ],
   "source": [
    "from sklearn.metrics import root_mean_squared_error\n",
    "\n",
    "print(f\"Train set, RMSE={root_mean_squared_error(y_train, regr.predict(X_train)):.2f}\")\n",
    "print(f\"Test set, RMSE={root_mean_squared_error(y_test, regr.predict(X_test)):.2f}\")\n",
    "\n",
    "print(f\"Train set, RMSE={root_mean_squared_error(y_train, model.predict(X_train)):.2f}\")\n",
    "print(f\"Test set, RMSE={root_mean_squared_error(y_test, model.predict(X_test)):.2f}\")\n",
    "\n",
    "print(f\"Train set, RMSE={root_mean_squared_error(y_train, boost.predict(X_train)):.2f}\")\n",
    "print(f\"Test set, RMSE={root_mean_squared_error(y_test, boost.predict(X_test)):.2f}\")\n",
    "\n",
    "print(f\"Train set, RMSE={root_mean_squared_error(y_train, model_2.predict(X_train)):.2f}\")\n",
    "print(f\"Test set, RMSE={root_mean_squared_error(y_test, model_2.predict(X_test)):.2f}\")"
   ]
  },
  {
   "cell_type": "code",
   "execution_count": 19,
   "metadata": {},
   "outputs": [],
   "source": [
    "from sklearn.model_selection import learning_curve\n",
    "\n",
    "N, train_score, val_score = learning_curve(regr, X_train, y_train, train_sizes=np.linspace(0.2, 1, 5), cv=5)"
   ]
  },
  {
   "cell_type": "code",
   "execution_count": 20,
   "metadata": {},
   "outputs": [
    {
     "data": {
      "text/plain": [
       "<matplotlib.legend.Legend at 0x299b054e050>"
      ]
     },
     "execution_count": 20,
     "metadata": {},
     "output_type": "execute_result"
    },
    {
     "data": {
      "image/png": "[encoded data removed]",
      "text/plain": [
       "<Figure size 640x480 with 1 Axes>"
      ]
     },
     "metadata": {},
     "output_type": "display_data"
    }
   ],
   "source": [
    "plt.plot(N, train_score.mean(axis=1), label='train')\n",
    "plt.plot(N, val_score.mean(axis=1), label='validation')\n",
    "plt.xlabel('train_sizes')\n",
    "plt.legend()"
   ]
  }
 ],
 "metadata": {
  "kernelspec": {
   "display_name": ".venv",
   "language": "python",
   "name": "python3"
  },
  "language_info": {
   "codemirror_mode": {
    "name": "ipython",
    "version": 3
   },
   "file_extension": ".py",
   "mimetype": "text/x-python",
   "name": "python",
   "nbconvert_exporter": "python",
   "pygments_lexer": "ipython3",
   "version": "3.10.16"
  }
 },
 "nbformat": 4,
 "nbformat_minor": 2
}
